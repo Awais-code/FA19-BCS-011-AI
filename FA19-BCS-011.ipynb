{
  "nbformat": 4,
  "nbformat_minor": 0,
  "metadata": {
    "colab": {
      "provenance": []
    },
    "kernelspec": {
      "name": "python3",
      "display_name": "Python 3"
    },
    "language_info": {
      "name": "python"
    }
  },
  "cells": [
    {
      "cell_type": "code",
      "execution_count": 9,
      "metadata": {
        "colab": {
          "base_uri": "https://localhost:8080/"
        },
        "id": "aSbCSIruUUCA",
        "outputId": "1976da30-5003-4a5c-d880-9000a89f0397"
      },
      "outputs": [
        {
          "output_type": "stream",
          "name": "stdout",
          "text": [
            "Path found!\n"
          ]
        }
      ],
      "source": [
        "from queue import Queue\n",
        "\n",
        "# Define the maze as a 2D array\n",
        "maze = [\n",
        "    [0, 0, 0, 0, 0],\n",
        "    [0, 1, 1, 1, 0],\n",
        "    [0, 0, 0, 1, 0],\n",
        "    [0, 1, 0, 1, 0],\n",
        "    [0, 0, 0, 0, 0]\n",
        "]\n",
        "\n",
        "# Define the start and end positions\n",
        "start = (0, 0)\n",
        "end = (4, 4)\n",
        "\n",
        "# Define the directions\n",
        "directions = [(0, 1), (1, 0), (0, -1), (-1, 0)]\n",
        "\n",
        "# Define the BFS function\n",
        "def bfs(maze, start, end):\n",
        "    visited = set()\n",
        "    q = Queue()\n",
        "    q.put(start)\n",
        "\n",
        "    while not q.empty():\n",
        "        current = q.get()\n",
        "        if current == end:\n",
        "            return True\n",
        "        for direction in directions:\n",
        "            x = current[0] + direction[0]\n",
        "            y = current[1] + direction[1]\n",
        "            if 0 <= x < len(maze) and 0 <= y < len(maze[0]) and maze[x][y] == 0 and (x, y) not in visited:\n",
        "                q.put((x, y))\n",
        "                visited.add((x, y))\n",
        "\n",
        "    return False\n",
        "\n",
        "# Call the BFS function\n",
        "if bfs(maze, start, end):\n",
        "    print(\"Path found!\")\n",
        "else:\n",
        "    print(\"Path not found.\")"
      ]
    },
    {
      "cell_type": "markdown",
      "source": [
        "FA19-BCS-011\n",
        "Muhammad Awais **bold text**\n",
        "\n",
        "The maze is represented as a 2D array, where 0 represents an empty space and 1 represents a wall. The start and end positions are defined as tuples, and the directions are defined as a list of tuples.\n",
        "\n",
        "The BFS function uses a set to keep track of visited positions and a queue to store the positions to be visited. It starts with the start position and checks all adjacent positions. If an adjacent position is a valid position (i.e., within the bounds of the maze and not a wall) and has not been visited yet, it is added to the queue and the visited set. The function continues until it reaches the end position or the queue is empty"
      ],
      "metadata": {
        "id": "h_OBukrjdNJk"
      }
    }
  ]
}